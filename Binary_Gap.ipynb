{
 "cells": [
  {
   "cell_type": "markdown",
   "source": [
    "# Codility Lesson\n",
    "## Iterations: Binary Gap (solution in Python)\n",
    "### Find the largest sequence of zeros in binary representation of an integer.\n",
    "#### by Marlon Diaz"
   ],
   "metadata": {
    "collapsed": false,
    "pycharm": {
     "name": "#%% md\n"
    }
   }
  },
  {
   "cell_type": "markdown",
   "source": [
    "# My Mathematical Notes on Binary representation of numbers\n",
    "\n",
    "The idea behind this exercise is to bring forth my mathematical skills in Python to illustrate how to write an algorithm (step-by-step procedure for solving problems) versus a set of instructions for a computer to follow to perform a task.\n",
    "\n",
    "Unless you are a computer science major, binary representation is not a thing you learn when you start programming in Python, however, anyone with a mathematical/physics eye will recognize this is the study of Sequence and Series. Therefore, let's cover some general principles and methods for solving problems. Side note, this is really ancient knowledge about the concept of numbers in base 2, base 10, base 6, base 12, base 60, ect., ect..\n",
    "\n",
    "For example: $a_{1}, a_{2}, a_{3}, ... a_{n}$ denotes the first, second, and third element of the sequence denoted as $S_{n}$\n",
    "\n",
    "Consider the sequence given by $ S_{n} =  A^{n} \\equiv 2^{n} $\n",
    "\n",
    "( beginning with $2^{0}=1$):\n",
    "\n",
    "$S_{0} = 2^{0} = 1$  \\\n",
    "$S_{1} = 2^{1} = 2$ \\\n",
    "$S_{2} = 2^{2} = 4$ \\\n",
    "$S_{3} = 2^{3} = 8$ \\\n",
    "$S_{4} = 2^{4} = 16$ \\\n",
    "$S_{5} = 2^{5} = 32$ \\\n",
    "$S_{6} = 2^{6} = 64$ \\\n",
    "$S_{7} = 2^{7} = 128$ \\\n",
    "$S_{8} = 2^{8} = 256$ \\\n",
    "$S_{9} = 2^{9} = 512$ \\\n",
    "$S_{10} = 2^{10} = 1024$ \\\n",
    "$S_{11} = 2^{11} = 2048$ \\\n",
    "$ \\vdots $\n",
    "\n",
    "We find the sequence has the terms 1, 2, 4, 8, ..., which evidently diverges to $\\infty$ for $ A > 1 $\n",
    "\\\n",
    "To find a geometric series pattern, let's add the right-hand side numbers together, and see that:\n",
    "\n",
    "- $1 = 1$\n",
    "- $1 + 2 = 3$\n",
    "- $1 + 2 + 4 = 7$\n",
    "- $1 + 2 + 4 + 8 = 15$\n",
    "- $1 + 2 + 4  + 16 = 31$\n",
    "\\\n",
    "Notice, each sum is one less than the next right-hand side (or the next power of 2).\n",
    "- In mathematics this can be generalized into an algebraic formula (for $n \\geq 1$):\n",
    "\n",
    "$ S = \\sum_{n=0}^N $ $A^{n} = 1 + 2 + 4 + 8 + 16 + ... + 2^{n-1} =  2^{n} - 1  $\n",
    "\n",
    "The idea behind binary is that every number can be represented as a unique sum of distinct powers of 2, or base 2.\n",
    "We express this in binary by replacing each power of 2 with a number 1 and each missing power of 2 with 0.\n",
    "\n",
    "\n",
    "One example is the number 31 which is one less than $2^{5}$\n",
    "$2^{5} - 1 $ = 31 = (1 x 16) + (1 x 8) + (1 x 4) + (1 x 2) + (1 x 1).\n",
    "\n",
    "Thus, 31 has the binary representation = $(1111)_{2}$\n",
    "In the case of number 31, there is no zeros in the binary representation, only 1s.\n",
    "\n",
    "Let's try 1041 for example,\n",
    "1041 = (1 x 1024) + (0 x 512) + (0 x 256) + (0 x 128) + (0 x 64) + (0 x 32) + (1 x 16) + (0 x 8) + (0 x 4) + (0 x 2) + (1 x 1).\n",
    "\n",
    "Thus, 1041 has binary representation  = $(10000010001)_{2}$\n",
    "\n",
    "$\\therefore$ the longest sequence of zeros in binary representation of 1041 is 5 because there are 5 zeros between the first two 1s.\n",
    "\n"
   ],
   "metadata": {
    "collapsed": false,
    "pycharm": {
     "name": "#%% md\n"
    }
   }
  },
  {
   "cell_type": "markdown",
   "source": [
    "# Four quick examples illustrating the format function\n",
    " Notice it always starts with a 1\n",
    "\n",
    "Then notice that the pattern in the sequence is 0,1, 10, 11, 100, 101, 110, 111, 1000,  ..."
   ],
   "metadata": {
    "collapsed": false,
    "pycharm": {
     "name": "#%% md\n"
    }
   }
  },
  {
   "cell_type": "code",
   "execution_count": 114,
   "outputs": [
    {
     "name": "stdout",
     "output_type": "stream",
     "text": [
      "The number 0 has zero binary gap; its binary representation is =  0\n"
     ]
    }
   ],
   "source": [
    "# example 1\n",
    "bin0 = format(0, 'b')\n",
    "print('The number 0 has zero binary gap; its binary representation is = ', bin0)"
   ],
   "metadata": {
    "collapsed": false,
    "pycharm": {
     "name": "#%%\n"
    }
   }
  },
  {
   "cell_type": "code",
   "execution_count": 108,
   "outputs": [
    {
     "name": "stdout",
     "output_type": "stream",
     "text": [
      "The number 1 has zero binary gap; its binary representation is =  1\n"
     ]
    }
   ],
   "source": [
    "# example 2\n",
    "bin1 = format(1, 'b')\n",
    "print('The number 1 has zero binary gap; its binary representation is = ', bin1)"
   ],
   "metadata": {
    "collapsed": false,
    "pycharm": {
     "name": "#%%\n"
    }
   }
  },
  {
   "cell_type": "code",
   "execution_count": 202,
   "outputs": [
    {
     "name": "stdout",
     "output_type": "stream",
     "text": [
      "The number 2 has no binary gap because its binary representation is =  10\n"
     ]
    }
   ],
   "source": [
    "# example 3\n",
    "bin2 = format(2, 'b')\n",
    "print('The number 2 has no binary gap because its binary representation is = ', bin2)"
   ],
   "metadata": {
    "collapsed": false,
    "pycharm": {
     "name": "#%%\n"
    }
   }
  },
  {
   "cell_type": "code",
   "execution_count": 116,
   "outputs": [
    {
     "name": "stdout",
     "output_type": "stream",
     "text": [
      "The number 9 has one binary gap of 2 zeros between 1s; its binary representation is =  1001\n"
     ]
    }
   ],
   "source": [
    "# example 4\n",
    "bin9 = format(9, 'b')\n",
    "print('The number 9 has one binary gap of 2 zeros between 1s; its binary representation is = ', bin9)"
   ],
   "metadata": {
    "collapsed": false,
    "pycharm": {
     "name": "#%%\n"
    }
   }
  },
  {
   "cell_type": "markdown",
   "source": [
    "# Start The Task from Codility_\n",
    "\n",
    "(Taken from the Codility website; used here for educational purpose only)\n",
    "https://app.codility.com/programmers/lessons/1-iterations/binary_gap/\n",
    "\n",
    "A binary gap within a positive integer N is any maximal sequence of consecutive zeros that is surrounded by ones at both ends in the binary representation of N.\n",
    "\n",
    "- Write a function :\n",
    "    - def solution(N)\n",
    "\n",
    "that, given a positive integer N, returns the length of its longest binary gap. The function should return 0 if N does not contain a binary gap.\n",
    "\n",
    "Write an efficient algorithm for the following assumptions:\n",
    "- N is an integer within the range [1, 2147483647]."
   ],
   "metadata": {
    "collapsed": false,
    "pycharm": {
     "name": "#%% md\n"
    }
   }
  },
  {
   "cell_type": "markdown",
   "source": [
    "# My Notes for Algorithm\n",
    "\n",
    "- Convert a positive integer N to binary representation\n",
    "    - use bin function or format function\n",
    "- Count the binary gaps of zeros of the integer N\n",
    "   - use count and find method\n",
    "      - find the first 1 and other 1s\n",
    "      - compute the number of zeros between 1s\n",
    "      - the function should return 0 if N does not contain a binary gap\n",
    "      - the function should return not 0 if N contains a binary gap\n",
    "            - the function should return how many zeros are in the max sequence of consecutive zeros\n",
    "\n",
    "#### Flow control\n",
    "- Write `if` statement\n",
    "    - Evaluate the expression until is found to be true\n",
    "- Write `for` statement\n",
    "    - Iterates over the items of any sequence\n",
    "- Write `else` statement\n",
    "\n",
    "#### Built-in functions\n",
    "\n",
    "- bin()\n",
    "    - convert integer to binary\n",
    "- format()\n",
    "    - another function to convert integer to binary\n",
    "- range()\n",
    "    - returns an iteration over a series of numbers\n",
    "- len()\n",
    "    - returns the length of the object\n",
    "- max()\n",
    "    - return the largest item in an iterable or the largest of two or more arguments\n",
    "\n",
    "#### Built-in Data types\n",
    "- Comparisons operators: not equal denoted `!=`, equal denoted `==`\n",
    "- Numeric type: Int\n",
    "- Sequence type: str, range\n",
    "    - string methods: count, strip, split, find, extend\n",
    "\n",
    "#### The `count()` method:\n",
    "- Returns the number of non-overlapping occurrences of substring\n",
    "- I want to count the number of zeros in the binary representation.\n",
    "\n",
    "#### `The find()` method:\n",
    "Return the lowest index in the string where substring `sub` is found within the slice `s[start:end]`\n",
    "Optional arguments `start` and `end` are interpreted as in slice notation. Return `-1` if `sub` is not\n",
    "#####  str.find(sub[ , start[, end]])\n",
    "\n",
    "#### The `extend(iterable)` method:\n",
    "Append items from iterable to the end of the array. If iterable is another array, it must have exactly the same type code; if not, TypeError will be raised. If iterable is not an array, it must be iterable and its elements must be the right type to be appended to the array.\n",
    "\n",
    "#### Sources:\n",
    "- https://docs.python.org/3/library/stdtypes.html#str\n",
    "- https://docs.python.org/3/library/string.html#formatstrings\n"
   ],
   "metadata": {
    "collapsed": false,
    "pycharm": {
     "name": "#%% md\n"
    }
   }
  },
  {
   "cell_type": "markdown",
   "source": [
    "# Put it all together"
   ],
   "metadata": {
    "collapsed": false,
    "pycharm": {
     "name": "#%% md\n"
    }
   }
  },
  {
   "cell_type": "code",
   "execution_count": 180,
   "outputs": [],
   "source": [
    "def solution(N):\n",
    "    longest_bin_gap = []\n",
    "    binary_rep = \"{0:b}\".format(N)\n",
    "    if binary_rep.count(\"0\")!=0:\n",
    "        for i in range(len(binary_rep)):\n",
    "            if binary_rep[i]==\"1\":\n",
    "                adjacent = binary_rep.find(\"1\", i+1)\n",
    "                if adjacent !=-1:\n",
    "                    longest_bin_gap.extend([adjacent-i-1])\n",
    "                else:\n",
    "                    longest_bin_gap.extend([0])\n",
    "        return max(longest_bin_gap)\n",
    "    else:\n",
    "        return 0"
   ],
   "metadata": {
    "collapsed": false,
    "pycharm": {
     "name": "#%%\n"
    }
   }
  },
  {
   "cell_type": "code",
   "execution_count": 181,
   "outputs": [
    {
     "data": {
      "text/plain": "5"
     },
     "execution_count": 181,
     "metadata": {},
     "output_type": "execute_result"
    }
   ],
   "source": [
    "solution(1041)"
   ],
   "metadata": {
    "collapsed": false,
    "pycharm": {
     "name": "#%%\n"
    }
   }
  },
  {
   "cell_type": "code",
   "execution_count": 182,
   "outputs": [
    {
     "data": {
      "text/plain": "0"
     },
     "execution_count": 182,
     "metadata": {},
     "output_type": "execute_result"
    }
   ],
   "source": [
    "solution(32)"
   ],
   "metadata": {
    "collapsed": false,
    "pycharm": {
     "name": "#%%\n"
    }
   }
  },
  {
   "cell_type": "markdown",
   "source": [
    "# Check results"
   ],
   "metadata": {
    "collapsed": false,
    "pycharm": {
     "name": "#%% md\n"
    }
   }
  },
  {
   "cell_type": "code",
   "execution_count": 174,
   "outputs": [
    {
     "name": "stdout",
     "output_type": "stream",
     "text": [
      "The number 1041 has one binary gap of 5 zeros [in the longest binary gap) and 3 zeros [between the mid 1 and final 1]; its binary representation is =  10000010001\n"
     ]
    }
   ],
   "source": [
    "bin1041 = format(1041, 'b')\n",
    "print('The number 1041 has one binary gap of 5 zeros [in the longest binary gap) and 3 zeros [between the mid 1 and final 1]; its binary representation is = ', bin1041)"
   ],
   "metadata": {
    "collapsed": false,
    "pycharm": {
     "name": "#%%\n"
    }
   }
  },
  {
   "cell_type": "code",
   "execution_count": 172,
   "outputs": [
    {
     "name": "stdout",
     "output_type": "stream",
     "text": [
      "The number 32 does not have binary gap because its binary representation is =  100000\n"
     ]
    }
   ],
   "source": [
    "bin32 = format(32, 'b')\n",
    "print('The number 32 does not have binary gap because its binary representation is = ', bin32)"
   ],
   "metadata": {
    "collapsed": false,
    "pycharm": {
     "name": "#%%\n"
    }
   }
  },
  {
   "cell_type": "code",
   "execution_count": null,
   "outputs": [],
   "source": [],
   "metadata": {
    "collapsed": false,
    "pycharm": {
     "name": "#%%\n"
    }
   }
  }
 ],
 "metadata": {
  "kernelspec": {
   "display_name": "Python 3",
   "language": "python",
   "name": "python3"
  },
  "language_info": {
   "codemirror_mode": {
    "name": "ipython",
    "version": 2
   },
   "file_extension": ".py",
   "mimetype": "text/x-python",
   "name": "python",
   "nbconvert_exporter": "python",
   "pygments_lexer": "ipython2",
   "version": "2.7.6"
  }
 },
 "nbformat": 4,
 "nbformat_minor": 0
}
